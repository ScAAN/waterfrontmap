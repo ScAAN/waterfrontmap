{
 "cells": [
  {
   "cell_type": "code",
   "execution_count": null,
   "metadata": {
    "collapsed": false
   },
   "outputs": [],
   "source": [
    "# import stuff\n",
    "import os\n",
    "cwd = os.getcwd()\n",
    "import pandas as pd \n",
    "import numpy as np\n",
    "import json\n",
    "\n",
    "# geocoding!\n",
    "import requests\n",
    "url = 'https://maps.googleapis.com/maps/api/geocode/json'\n",
    "url = 'http://maps.googleapis.com/maps/api/geocode/json?latlng=40.714224,-73.961452&sensor=false'"
   ]
  },
  {
   "cell_type": "code",
   "execution_count": null,
   "metadata": {
    "collapsed": true
   },
   "outputs": [],
   "source": [
    "# geojson writing function \n",
    "# http://geoffboeing.com/2015/10/exporting-python-data-geojson/\n",
    "def df_to_geojson(df, properties, lat='latitude', lon='longitude'):\n",
    "    geojson = {'type':'FeatureCollection', 'features':[]}\n",
    "    for _, row in df.iterrows():\n",
    "        feature = {'type':'Feature',\n",
    "                   'properties':{},\n",
    "                   'geometry':{'type':'Point',\n",
    "                               'coordinates':[]}}\n",
    "        feature['geometry']['coordinates'] = [row[lon],row[lat]]\n",
    "        for prop in properties:\n",
    "            feature['properties'][prop] = row[prop]\n",
    "        geojson['features'].append(feature)\n",
    "    return geojson"
   ]
  },
  {
   "cell_type": "code",
   "execution_count": null,
   "metadata": {
    "collapsed": false
   },
   "outputs": [],
   "source": [
    "# load PBS or MOSF\n",
    "waste_type = 'MOSF'\n",
    "file_name = 'NotYetConverted\\\\NYS_NYC_' + waste_type + '.csv'\n",
    "df = pd.read_csv(file_name)\n",
    "df[\"Full Address\"] = df[\"Site Address\"]+\"New York City, NY\" #+df[\" ZipCode]\n",
    "\n",
    "print('loaded \"' + file_name + '\" !')\n",
    "print('contains ' +str(len(MOSF.index)) + ' ' + waste_type + ' sites') "
   ]
  },
  {
   "cell_type": "code",
   "execution_count": null,
   "metadata": {
    "collapsed": false
   },
   "outputs": [],
   "source": [
    "# geocode using requests\n",
    "for ind, row in enumerate(df[\"Full Address\"].values):\n",
    "    params = {'sensor': 'false', 'address': row}\n",
    "    \n",
    "    r = requests.get(url, params=params)\n",
    "    results = r.json()['results']\n",
    "    while not results: \n",
    "        # if you give it too many requests it will refuse your requests\n",
    "        # and give you empty results \n",
    "        # so let's sloppily keep requesting instead\n",
    "        # update this to pause between requests to avoid hitting limit\n",
    "        r = requests.get(url, params=params)\n",
    "        results = r.json()['results']\n",
    "        \n",
    "    location = results[0]['geometry']['location']\n",
    "    df.loc[ind,\" Latitude\"] = location['lat']\n",
    "    df.loc[ind,\" Longitude\"] = location['lng']\n",
    "    \n",
    "    # display progress\n",
    "    if ind % 50 ==0: \n",
    "        print('completed ' +str(ind+1) + '/'+ str(len(MOSF.index)) +' requests!') \n",
    "print('completed ' +str(ind+1) + '/'+ str(len(MOSF.index)) +' requests!')   "
   ]
  },
  {
   "cell_type": "code",
   "execution_count": null,
   "metadata": {
    "collapsed": false
   },
   "outputs": [],
   "source": [
    "# now write a geojson\n",
    "cols = ['Full Address']\n",
    "geojson = df_to_geojson(df, cols, lat=' Latitude', lon=' Longitude')\n",
    "output_filename = 'Data\\\\' +waste_type + '_converted.json'\n",
    "with open(output_filename, 'w') as output_file:\n",
    "    json.dump(geojson, output_file, indent=2) \n",
    "\n",
    "print('saved as \"'+ output_filename + '\" !')\n"
   ]
  }
 ],
 "metadata": {
  "kernelspec": {
   "display_name": "Python 3",
   "language": "python",
   "name": "python3"
  },
  "language_info": {
   "codemirror_mode": {
    "name": "ipython",
    "version": 3
   },
   "file_extension": ".py",
   "mimetype": "text/x-python",
   "name": "python",
   "nbconvert_exporter": "python",
   "pygments_lexer": "ipython3",
   "version": "3.6.0"
  }
 },
 "nbformat": 4,
 "nbformat_minor": 2
}
