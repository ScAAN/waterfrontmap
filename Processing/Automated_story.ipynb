{
 "cells": [
  {
   "cell_type": "code",
   "execution_count": 5,
   "metadata": {
    "collapsed": false
   },
   "outputs": [
    {
     "name": "stdout",
     "output_type": "stream",
     "text": [
      "C:\\Users\\Maija\\Documents\\Python\\waterfrontmap\n"
     ]
    }
   ],
   "source": [
    "# import stuff\n",
    "import os\n",
    "os.chdir(\"C:\\\\Users\\\\Maija\\\\Documents\\\\Python\\\\waterfrontmap\")\n",
    "cwd = os.getcwd()\n",
    "print(cwd)\n",
    "import pandas as pd \n",
    "import numpy as np\n",
    "import json\n",
    "from pandas.api.types import is_string_dtype\n",
    "from pandas.api.types import is_numeric_dtype"
   ]
  },
  {
   "cell_type": "code",
   "execution_count": 45,
   "metadata": {
    "collapsed": false
   },
   "outputs": [
    {
     "name": "stdout",
     "output_type": "stream",
     "text": [
      "True\n"
     ]
    }
   ],
   "source": [
    "file_name = 'Scripts\\\\story_text_raw.json'\n",
    "#json = pd.read_json(file_name)\n",
    "print(os.path.isfile(file_name))\n",
    "data = json.load(open(file_name))"
   ]
  },
  {
   "cell_type": "code",
   "execution_count": 46,
   "metadata": {
    "collapsed": false
   },
   "outputs": [
    {
     "name": "stdout",
     "output_type": "stream",
     "text": [
      "11\n"
     ]
    }
   ],
   "source": [
    "njson = len(data)\n",
    "print(njson)\n",
    "\n",
    "zoomMat = [10,12,12,12,12,12,12,12];\n",
    "latMat = [-73.9978,-73.97256593122793,-73.93480042828487,-74.23091192935536,\n",
    "-74.00743616089453,-73.8939875925258,-74.01499944630518,-74.13713363755667]; \n",
    "lngMat = [40.7209,40.70337539892057, 40.73043814252142, 40.5505517824447\n",
    ", 40.68650785503232, 40.80730643781723, 40.658442081047724, 40.64057887695694]; \n",
    "\n",
    "SMIA_first_page = np.zeros(shape = (8,1))\n",
    "for page in range(njson):\n",
    "    SMIA = data[page][\"pageSMIA\"]\n",
    "    data[page][\"pageZoom\"] = zoomMat[SMIA]\n",
    "    data[page][\"pageLng\"]  = lngMat[SMIA]\n",
    "    data[page][\"pageLat\"]  = latMat[SMIA]\n",
    "    if page>0:\n",
    "        if SMIA>(data[page-1][\"pageSMIA\"]):\n",
    "            SMIA_first_page[SMIA] = page\n",
    "        "
   ]
  },
  {
   "cell_type": "code",
   "execution_count": 53,
   "metadata": {
    "collapsed": false
   },
   "outputs": [],
   "source": [
    "fulldata = dict()\n",
    "fulldata[\"data\"] = data\n",
    "fulldata[\"global_max_page\"] = njson\n",
    "fulldata[\"SMIA_first_page\"] = SMIA_first_page"
   ]
  },
  {
   "cell_type": "code",
   "execution_count": 55,
   "metadata": {
    "collapsed": false
   },
   "outputs": [],
   "source": [
    "output_file = 'Scripts\\\\story_text.json'\n",
    "with open(output_file, 'w') as f:\n",
    "    json.dump(data, f)"
   ]
  },
  {
   "cell_type": "code",
   "execution_count": 54,
   "metadata": {
    "collapsed": false
   },
   "outputs": [
    {
     "data": {
      "text/plain": [
       "{'SMIA_first_page': array([[  0.],\n",
       "        [  1.],\n",
       "        [  2.],\n",
       "        [  4.],\n",
       "        [  7.],\n",
       "        [  8.],\n",
       "        [  9.],\n",
       "        [ 10.]]),\n",
       " 'data': [{'pageIdx': 0,\n",
       "   'pageLat': -73.9978,\n",
       "   'pageLayer': 'Percent People of Color',\n",
       "   'pageLng': 40.7209,\n",
       "   'pageSMIA': 0,\n",
       "   'pageText': 'Lorem ipsum dolor sit amet, consectetur adipiscing elit, sed do eiusmod tempor incididunt ut labore et dolore magna aliqua. Ut enim ad minim veniam, quis nostrud exercitation ullamco laboris nisi ut aliquip ex ea commodo consequat.',\n",
       "   'pageTitle': 'Introduction Title',\n",
       "   'pageZoom': 10},\n",
       "  {'pageIdx': 1,\n",
       "   'pageLat': -73.97256593122793,\n",
       "   'pageLayer': 'Percent Uninsured',\n",
       "   'pageLng': 40.70337539892057,\n",
       "   'pageSMIA': 1,\n",
       "   'pageText': 'Duis aute irure dolor in reprehenderit in voluptate velit esse cillum dolore eu fugiat nulla pariatur. Excepteur sint occaecat cupidatat non proident, sunt in culpa qui officia deserunt mollit anim id est laborum.',\n",
       "   'pageTitle': 'Smia #1 Title',\n",
       "   'pageZoom': 12},\n",
       "  {'pageIdx': 2,\n",
       "   'pageLat': -73.93480042828487,\n",
       "   'pageLayer': 'Percent People of Color',\n",
       "   'pageLng': 40.73043814252142,\n",
       "   'pageSMIA': 2,\n",
       "   'pageText': 'Sed ut perspiciatis unde omnis iste natus error sit voluptatem accusantium doloremque laudantium, totam rem aperiam, eaque ipsa quae ab illo inventore veritatis et quasi architecto beatae vitae dicta sunt explicabo.',\n",
       "   'pageTitle': 'Smia #2 POC',\n",
       "   'pageZoom': 12},\n",
       "  {'pageIdx': 2,\n",
       "   'pageLat': -73.93480042828487,\n",
       "   'pageLayer': 'Zoning',\n",
       "   'pageLng': 40.73043814252142,\n",
       "   'pageSMIA': 2,\n",
       "   'pageText': 'Ut enim ad minima veniam, quis nostrum exercitationem ullam corporis suscipit laboriosam, nisi ut aliquid ex ea commodi consequatur? Quis autem vel eum iure reprehenderit qui in ea voluptate velit esse quam nihil molestiae consequatur, vel illum qui dolorem eum fugiat quo voluptas nulla pariatur?\"',\n",
       "   'pageTitle': 'Smia #2 Zoning',\n",
       "   'pageZoom': 12},\n",
       "  {'pageIdx': 3,\n",
       "   'pageLat': -74.23091192935536,\n",
       "   'pageLayer': 'Median Household Income',\n",
       "   'pageLng': 40.5505517824447,\n",
       "   'pageSMIA': 3,\n",
       "   'pageText': 'Et harum quidem rerum facilis est et expedita distinctio. Nam libero tempore, cum soluta nobis est eligendi optio cumque nihil impedit quo minus id quod maxime placeat facere possimus, omnis voluptas assumenda est, omnis dolor repellendus.',\n",
       "   'pageTitle': 'Smia #3 Income',\n",
       "   'pageZoom': 12},\n",
       "  {'pageIdx': 3,\n",
       "   'pageLat': -74.23091192935536,\n",
       "   'pageLayer': 'Percent Uninsured',\n",
       "   'pageLng': 40.5505517824447,\n",
       "   'pageSMIA': 3,\n",
       "   'pageText': 'Temporibus autem quibusdam et aut officiis debitis aut rerum necessitatibus saepe eveniet ut et voluptates repudiandae sint et molestiae non recusandae. Itaque earum rerum hic tenetur a sapiente delectus, ut aut reiciendis voluptatibus maiores alias consequatur aut perferendis doloribus asperiores repellat.',\n",
       "   'pageTitle': 'Smia #3 Percent Uninsured',\n",
       "   'pageZoom': 12},\n",
       "  {'pageIdx': 3,\n",
       "   'pageLat': -74.23091192935536,\n",
       "   'pageLayer': 'Bulk Storage Sites',\n",
       "   'pageLng': 40.5505517824447,\n",
       "   'pageSMIA': 3,\n",
       "   'pageText': 'Nemo enim ipsam voluptatem quia voluptas sit aspernatur aut odit aut fugit, sed quia consequuntur magni dolores eos qui ratione voluptatem sequi nesciunt. Neque porro quisquam est, qui dolorem ipsum quia dolor sit amet, consectetur, adipisci velit, sed quia non numquam eius modi tempora incidunt ut labore et dolore magnam aliquam quaerat voluptatem.',\n",
       "   'pageTitle': 'Smia #3 Bulk Storage',\n",
       "   'pageZoom': 12},\n",
       "  {'pageIdx': 4,\n",
       "   'pageLat': -74.00743616089453,\n",
       "   'pageLayer': 'Percent of Families Below Poverty Line',\n",
       "   'pageLng': 40.68650785503232,\n",
       "   'pageSMIA': 4,\n",
       "   'pageText': 'Ut enim ad minima veniam, quis nostrum exercitationem ullam corporis suscipit laboriosam, nisi ut aliquid ex ea commodi consequatur? Quis autem vel eum iure reprehenderit qui in ea voluptate velit esse quam nihil molestiae consequatur, vel illum qui dolorem eum fugiat quo voluptas nulla pariatur?\"',\n",
       "   'pageTitle': 'Smia #4 Title',\n",
       "   'pageZoom': 12},\n",
       "  {'pageIdx': 5,\n",
       "   'pageLat': -73.8939875925258,\n",
       "   'pageLayer': 'Bulk Storage Sites',\n",
       "   'pageLng': 40.80730643781723,\n",
       "   'pageSMIA': 5,\n",
       "   'pageText': 'At vero eos et accusamus et iusto odio dignissimos ducimus qui blanditiis praesentium voluptatum deleniti atque corrupti quos dolores et quas molestias excepturi sint occaecati cupiditate non provident, similique sunt in culpa qui officia deserunt mollitia animi, id est laborum et dolorum fuga.',\n",
       "   'pageTitle': 'Smia #5 Title',\n",
       "   'pageZoom': 12},\n",
       "  {'pageIdx': 6,\n",
       "   'pageLat': -74.01499944630518,\n",
       "   'pageLayer': 'Hurricane Storm Surge Zomes',\n",
       "   'pageLng': 40.658442081047724,\n",
       "   'pageSMIA': 6,\n",
       "   'pageText': 'Et harum quidem rerum facilis est et expedita distinctio. Nam libero tempore, cum soluta nobis est eligendi optio cumque nihil impedit quo minus id quod maxime placeat facere possimus, omnis voluptas assumenda est, omnis dolor repellendus.',\n",
       "   'pageTitle': 'Smia #6 Title',\n",
       "   'pageZoom': 12},\n",
       "  {'pageIdx': 7,\n",
       "   'pageLat': -74.13713363755667,\n",
       "   'pageLayer': 'Hurricane Evacuation Zones',\n",
       "   'pageLng': 40.64057887695694,\n",
       "   'pageSMIA': 7,\n",
       "   'pageText': 'Temporibus autem quibusdam et aut officiis debitis aut rerum necessitatibus saepe eveniet ut et voluptates repudiandae sint et molestiae non recusandae. Itaque earum rerum hic tenetur a sapiente delectus, ut aut reiciendis voluptatibus maiores alias consequatur aut perferendis doloribus asperiores repellat.',\n",
       "   'pageTitle': 'Smia #7 Title',\n",
       "   'pageZoom': 12}],\n",
       " 'global_max_page': 11}"
      ]
     },
     "execution_count": 54,
     "metadata": {},
     "output_type": "execute_result"
    }
   ],
   "source": [
    "fulldata"
   ]
  },
  {
   "cell_type": "code",
   "execution_count": null,
   "metadata": {
    "collapsed": true
   },
   "outputs": [],
   "source": []
  }
 ],
 "metadata": {
  "kernelspec": {
   "display_name": "Python 3",
   "language": "python",
   "name": "python3"
  },
  "language_info": {
   "codemirror_mode": {
    "name": "ipython",
    "version": 3
   },
   "file_extension": ".py",
   "mimetype": "text/x-python",
   "name": "python",
   "nbconvert_exporter": "python",
   "pygments_lexer": "ipython3",
   "version": "3.6.0"
  }
 },
 "nbformat": 4,
 "nbformat_minor": 2
}
