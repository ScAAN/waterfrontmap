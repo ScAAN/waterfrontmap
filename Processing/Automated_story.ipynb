{
 "cells": [
  {
   "cell_type": "code",
   "execution_count": 5,
   "metadata": {
    "collapsed": false
   },
   "outputs": [
    {
     "name": "stdout",
     "output_type": "stream",
     "text": [
      "C:\\Users\\Maija\\Documents\\Python\\waterfrontmap\n"
     ]
    }
   ],
   "source": [
    "# import stuff\n",
    "import os\n",
    "os.chdir(\"C:\\\\Users\\\\Maija\\\\Documents\\\\Python\\\\waterfrontmap\")\n",
    "cwd = os.getcwd()\n",
    "print(cwd)\n",
    "import pandas as pd \n",
    "import numpy as np\n",
    "import json\n",
    "from pandas.api.types import is_string_dtype\n",
    "from pandas.api.types import is_numeric_dtype"
   ]
  },
  {
   "cell_type": "code",
   "execution_count": null,
   "metadata": {
    "collapsed": true
   },
   "outputs": [],
   "source": [
    "# specify four properties, one per line, with a \"--\" between pages\n",
    "#\n",
    "# 0) --\n",
    "# 1) SMIA 1-7 (or 0 for zoomed out)\n",
    "# 2) Relevant layer (or 0 for no layer)\n",
    "# 3) Title \n",
    "# 4) Text \n",
    "#\n",
    "# No weird characters, or at least make sure they're specified in utf-8 \n",
    "#\n",
    "# Pages will go in the order you specify them, you can also write the \n",
    "# page number between commented sections for readbility \n",
    "#\n",
    "# FOLLOW THESE INSTRUCTIONS. Things will break if not formatted correctly.\n",
    "#\n",
    "# example: \n",
    "#\n",
    "# --page 1--\n",
    "# 1\n",
    "# \"Percent People of Color\"\n",
    "# \"People of color in SMIA #1, Newtown Creek\"\n",
    "# \"Lorem ipsum lorem ipsum\"\n",
    "#  --page 2--\n",
    "# 1\n",
    "# \"Median Household Income\" \n",
    "# ... etcetera. \n",
    "\n",
    "\n",
    "\n"
   ]
  },
  {
   "cell_type": "code",
   "execution_count": 29,
   "metadata": {
    "collapsed": false
   },
   "outputs": [
    {
     "name": "stdout",
     "output_type": "stream",
     "text": [
      "True\n"
     ]
    }
   ],
   "source": [
    "file_name = 'Scripts\\\\story_text.json'\n",
    "#json = pd.read_json(file_name)\n",
    "print(os.path.isfile(file_name))\n",
    "data = json.load(open(file_name))"
   ]
  },
  {
   "cell_type": "code",
   "execution_count": 31,
   "metadata": {
    "collapsed": false
   },
   "outputs": [
    {
     "data": {
      "text/plain": [
       "{'pageIdx': 0,\n",
       " 'pageLayer': 'Percent People of Color',\n",
       " 'pageSMIA': 0,\n",
       " 'pageText': 'Lorem ipsum dolor sit amet, consectetur adipiscing elit, sed do eiusmod tempor incididunt ut labore et dolore magna aliqua.',\n",
       " 'pageTitle': 'Introduction Title'}"
      ]
     },
     "execution_count": 31,
     "metadata": {},
     "output_type": "execute_result"
    }
   ],
   "source": [
    "data[0]"
   ]
  },
  {
   "cell_type": "code",
   "execution_count": 32,
   "metadata": {
    "collapsed": false
   },
   "outputs": [
    {
     "name": "stdout",
     "output_type": "stream",
     "text": [
      "8\n"
     ]
    }
   ],
   "source": [
    "njson = len(data)\n",
    "print(njson)\n",
    "\n",
    "zoomMat = [10,12,12,12,12,12,12,12];\n",
    "latMat = [-73.9978,-73.97256593122793,-73.93480042828487,-74.23091192935536,\n",
    "-74.00743616089453,-73.8939875925258,-74.01499944630518,-74.13713363755667]; \n",
    "lngMat = [40.7209,40.70337539892057, 40.73043814252142, 40.5505517824447\n",
    ", 40.68650785503232, 40.80730643781723, 40.658442081047724, 40.64057887695694]; \n",
    "\n",
    "for page in range(njson):\n",
    "    SMIA = data[page][\"pageSMIA\"]\n",
    "    data[page][\"pageZoom\"] = zoomMat[SMIA]\n",
    "    data[page][\"pageLng\"]  = lngMat[SMIA]\n",
    "    data[page][\"pageLat\"]  = latMat[SMIA]"
   ]
  },
  {
   "cell_type": "code",
   "execution_count": 34,
   "metadata": {
    "collapsed": false
   },
   "outputs": [],
   "source": [
    "output_file = file_name\n",
    "with open(output_file, 'w') as f:\n",
    "    json.dump(data, f)"
   ]
  },
  {
   "cell_type": "code",
   "execution_count": 35,
   "metadata": {
    "collapsed": false
   },
   "outputs": [
    {
     "data": {
      "text/plain": [
       "[{'pageIdx': 0,\n",
       "  'pageLat': -73.9978,\n",
       "  'pageLayer': 'Percent People of Color',\n",
       "  'pageLng': 40.7209,\n",
       "  'pageSMIA': 0,\n",
       "  'pageText': 'Lorem ipsum dolor sit amet, consectetur adipiscing elit, sed do eiusmod tempor incididunt ut labore et dolore magna aliqua.',\n",
       "  'pageTitle': 'Introduction Title',\n",
       "  'pageZoom': 10},\n",
       " {'pageIdx': 1,\n",
       "  'pageLat': -73.97256593122793,\n",
       "  'pageLayer': 'Percent People of Color',\n",
       "  'pageLng': 40.70337539892057,\n",
       "  'pageSMIA': 1,\n",
       "  'pageText': 'Ut enim ad minim veniam, quis nostrud exercitation ullamco laboris nisi ut aliquip ex ea commodo consequat.',\n",
       "  'pageTitle': 'Smia #1 Title',\n",
       "  'pageZoom': 12},\n",
       " {'pageIdx': 2,\n",
       "  'pageLat': -73.93480042828487,\n",
       "  'pageLayer': 'Percent People of Color',\n",
       "  'pageLng': 40.73043814252142,\n",
       "  'pageSMIA': 2,\n",
       "  'pageText': 'Duis aute irure dolor in reprehenderit in voluptate velit esse cillum dolore eu fugiat nulla pariatur.',\n",
       "  'pageTitle': 'Smia #2 Title',\n",
       "  'pageZoom': 12},\n",
       " {'pageIdx': 3,\n",
       "  'pageLat': -74.23091192935536,\n",
       "  'pageLayer': 'Percent People of Color',\n",
       "  'pageLng': 40.5505517824447,\n",
       "  'pageSMIA': 3,\n",
       "  'pageText': 'Excepteur sint occaecat cupidatat non proident, sunt in culpa qui officia deserunt mollit anim id est laborum',\n",
       "  'pageTitle': 'Smia #3 Title',\n",
       "  'pageZoom': 12},\n",
       " {'pageIdx': 4,\n",
       "  'pageLat': -74.00743616089453,\n",
       "  'pageLayer': 'Percent People of Color',\n",
       "  'pageLng': 40.68650785503232,\n",
       "  'pageSMIA': 4,\n",
       "  'pageText': 'Sed ut perspiciatis unde omnis iste natus error sit voluptatem accusantium doloremque laudantium, totam rem aperiam, eaque ipsa quae ab illo inventore veritatis et quasi architecto beatae vitae dicta sunt explicabo.',\n",
       "  'pageTitle': 'Smia #4 Title',\n",
       "  'pageZoom': 12},\n",
       " {'pageIdx': 5,\n",
       "  'pageLat': -73.8939875925258,\n",
       "  'pageLayer': 'Percent People of Color',\n",
       "  'pageLng': 40.80730643781723,\n",
       "  'pageSMIA': 5,\n",
       "  'pageText': 'Nemo enim ipsam voluptatem quia voluptas sit aspernatur aut odit aut fugit, sed quia consequuntur magni dolores eos qui ratione voluptatem sequi nesciunt.',\n",
       "  'pageTitle': 'Smia #5 Title',\n",
       "  'pageZoom': 12},\n",
       " {'pageIdx': 6,\n",
       "  'pageLat': -74.01499944630518,\n",
       "  'pageLayer': 'Percent People of Color',\n",
       "  'pageLng': 40.658442081047724,\n",
       "  'pageSMIA': 6,\n",
       "  'pageText': 'Neque porro quisquam est, qui dolorem ipsum quia dolor sit amet, consectetur, adipisci velit, sed quia non numquam eius modi tempora incidunt ut labore et dolore magnam aliquam quaerat voluptatem.',\n",
       "  'pageTitle': 'Smia #6 Title',\n",
       "  'pageZoom': 12},\n",
       " {'pageIdx': 7,\n",
       "  'pageLat': -74.13713363755667,\n",
       "  'pageLayer': 'Percent People of Color',\n",
       "  'pageLng': 40.64057887695694,\n",
       "  'pageSMIA': 7,\n",
       "  'pageText': 'Ut enim ad minima veniam, quis nostrum exercitationem ullam corporis suscipit laboriosam, nisi ut aliquid ex ea commodi consequatur? Quis autem vel eum iure reprehenderit qui in ea voluptate velit esse quam nihil molestiae consequatur, vel illum qui dolorem eum fugiat quo voluptas nulla pariatur?',\n",
       "  'pageTitle': 'Smia #7 Title',\n",
       "  'pageZoom': 12}]"
      ]
     },
     "execution_count": 35,
     "metadata": {},
     "output_type": "execute_result"
    }
   ],
   "source": [
    "data"
   ]
  },
  {
   "cell_type": "code",
   "execution_count": null,
   "metadata": {
    "collapsed": true
   },
   "outputs": [],
   "source": []
  }
 ],
 "metadata": {
  "kernelspec": {
   "display_name": "Python 3",
   "language": "python",
   "name": "python3"
  },
  "language_info": {
   "codemirror_mode": {
    "name": "ipython",
    "version": 3
   },
   "file_extension": ".py",
   "mimetype": "text/x-python",
   "name": "python",
   "nbconvert_exporter": "python",
   "pygments_lexer": "ipython3",
   "version": "3.6.0"
  }
 },
 "nbformat": 4,
 "nbformat_minor": 2
}
