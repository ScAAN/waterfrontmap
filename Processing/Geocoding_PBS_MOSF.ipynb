{
 "cells": [
  {
   "cell_type": "code",
   "execution_count": 6,
   "metadata": {},
   "outputs": [],
   "source": [
    "# import stuff\n",
    "import os\n",
    "cwd = os.getcwd()\n",
    "path = \"C:\\\\Users\\\\Maija\\\\Documents\\\\waterfrontmap\"\n",
    "os.chdir(path)\n",
    "import pandas as pd \n",
    "import numpy as np\n",
    "import json\n",
    "from pandas.api.types import is_string_dtype\n",
    "from pandas.api.types import is_numeric_dtype\n",
    "\n",
    "# geocoding!\n",
    "import requests\n",
    "url = 'https://maps.googleapis.com/maps/api/geocode/json'\n",
    "url = 'http://maps.googleapis.com/maps/api/geocode/json?latlng=40.714224,-73.961452&sensor=false'\n"
   ]
  },
  {
   "cell_type": "code",
   "execution_count": 2,
   "metadata": {
    "collapsed": true
   },
   "outputs": [],
   "source": [
    "# geojson writing function \n",
    "# http://geoffboeing.com/2015/10/exporting-python-data-geojson/\n",
    "def df_to_geojson(df, properties, lat='latitude', lon='longitude'):\n",
    "    geojson = {'type':'FeatureCollection', 'features':[]}\n",
    "    for _, row in df.iterrows():\n",
    "        feature = {'type':'Feature',\n",
    "                   'properties':{},\n",
    "                   'geometry':{'type':'Point',\n",
    "                               'coordinates':[]}}\n",
    "        feature['geometry']['coordinates'] = [row[lon],row[lat]]\n",
    "        for prop in properties:\n",
    "            feature['properties'][prop] = row[prop]\n",
    "        geojson['features'].append(feature)\n",
    "    return geojson\n"
   ]
  },
  {
   "cell_type": "code",
   "execution_count": 37,
   "metadata": {},
   "outputs": [
    {
     "name": "stdout",
     "output_type": "stream",
     "text": [
      "loaded \"NotYetConverted\\NYS_NYC_MOSF.csv\" !\n",
      "contains 119 MOSF sites\n"
     ]
    }
   ],
   "source": [
    "# load CBS or MOSF or SUPERFUND2\n",
    "waste_type = 'MOSF'\n",
    "file_name = 'NotYetConverted\\\\NYS_NYC_' + waste_type + '.csv'\n",
    "df = pd.read_csv(file_name)\n",
    "df[\"Full Address\"] = df[\"Site Address\"]+df[\"Locality\"]+\", New York City, NY\" #+df[\" ZipCode]\n",
    "\n",
    "print('loaded \"' + file_name + '\" !')\n",
    "print('contains ' +str(len(df.index)) + ' ' + waste_type + ' sites') \n"
   ]
  },
  {
   "cell_type": "code",
   "execution_count": 82,
   "metadata": {},
   "outputs": [
    {
     "name": "stdout",
     "output_type": "stream",
     "text": [
      "completed 0 requests!\n"
     ]
    }
   ],
   "source": [
    "# geocode using requests\n",
    "numcoded = 0;\n",
    "for ind, row in enumerate(df[\"Full Address\"].values):\n",
    "    params = {'sensor': 'false', 'address': row}\n",
    "    \n",
    "    \n",
    "    if is_numeric_dtype(type(df.loc[ind, \" Latitude\"]))==0:\n",
    "        print(df.loc[ind, \" Latitude\"] + \" -> \" + str(float(df.loc[ind, \" Latitude\"])))\n",
    "        df.loc[ind, \" Latitude\"] = float(df.loc[ind, \" Latitude\"])\n",
    "    \n",
    "    if is_numeric_dtype(type(df.loc[ind, \" Longitude\"]))==0:\n",
    "        print(df.loc[ind, \" Longitude\"] + \" -> \" + str(float(df.loc[ind, \" Longitude\"])))\n",
    "        df.loc[ind, \" Longitude\"] = float(df.loc[ind, \" Longitude\"])\n",
    "    \n",
    "    if (pd.isnull(df.loc[ind, \" Latitude\"]) or pd.isnull(df.loc[ind, \" Longitude\"])):\n",
    "        numcoded +=1\n",
    "        print(numcoded)\n",
    "        r = requests.get(url, params=params)\n",
    "        results = r.json()['results']\n",
    "        while not results: \n",
    "            # if you give it too many requests it will refuse your requests\n",
    "            # so let's sloppily keep requesting instead\n",
    "            # update this to pause between requests to avoid hitting limit\n",
    "            r = requests.get(url, params=params)\n",
    "            results = r.json()['results']\n",
    "\n",
    "        location = results[0]['geometry']['location']\n",
    "        df.loc[ind,\" Latitude\"] = location['lat']\n",
    "        df.loc[ind,\" Longitude\"] = location['lng']\n",
    "\n",
    "        # display progress\n",
    "        #if ind % 100 ==0: \n",
    "        #    print('completed ' +str(ind+1) + '/'+ str(len(df.index)) +' requests!') \n",
    "#print('completed ' +str(ind+1) + '/'+ str(len(df.index)) +' requests!')   \n",
    "print('completed ' +str(numcoded) + ' requests!')   \n",
    "\n",
    "\n"
   ]
  },
  {
   "cell_type": "code",
   "execution_count": 83,
   "metadata": {},
   "outputs": [
    {
     "name": "stdout",
     "output_type": "stream",
     "text": [
      "saved as \"Data\\MOSF_converted.json\" !\n"
     ]
    }
   ],
   "source": [
    "# now write a geojson\n",
    "cols = ['Full Address']\n",
    "geojson = df_to_geojson(df, cols, lat=' Latitude', lon=' Longitude')\n",
    "output_filename = 'Data\\\\' +waste_type + '_converted.json'\n",
    "with open(output_filename, 'w') as output_file:\n",
    "    json.dump(geojson, output_file, indent=2) \n",
    "\n",
    "print('saved as \"'+ output_filename + '\" !')\n"
   ]
  },
  {
   "cell_type": "code",
   "execution_count": 7,
   "metadata": {},
   "outputs": [],
   "source": [
    "# after converting all sites... \n",
    "# combine all sites into one geojson\n",
    "import json \n",
    "import copy"
   ]
  },
  {
   "cell_type": "code",
   "execution_count": 8,
   "metadata": {},
   "outputs": [],
   "source": [
    "# get data\n",
    "with open('Data\\\\TRI_converted.json') as f:\n",
    "    tri_raw = json.load(f)\n",
    "with open('Data\\\\CBS_converted.json') as f:\n",
    "    cbs_raw = json.load(f)\n",
    "with open('Data\\\\MOSF_converted.json') as f:\n",
    "    mos_raw = json.load(f)\n",
    "with open('Data\\\\SUPERFUND2_converted.json') as f:\n",
    "    sup_raw = json.load(f)"
   ]
  },
  {
   "cell_type": "code",
   "execution_count": 24,
   "metadata": {},
   "outputs": [],
   "source": [
    "#remove duplicate sites\n",
    "# (since we can't see them on the map since they're on top of each other)\n",
    "# and replace with the NUMBER_OF_SITES property\n",
    "def remove_duplicates(dict1):\n",
    "    seen = set()\n",
    "    seen_count = {}\n",
    "    seen_ind = {}\n",
    "    dup = []\n",
    "    print('removing duplicates in ' + str(len(dict1['features'])) + ' element list...')\n",
    "    for x in range(len(dict1['features'])):\n",
    "        cords = dict1['features'][x]['geometry']['coordinates']\n",
    "        cordstr = 'lat'+str(cords[0])+'lng'+str(cords[1])\n",
    "        if cordstr not in seen:\n",
    "            seen.add(cordstr)\n",
    "            seen_count[cordstr]=1\n",
    "            seen_ind[cordstr]=x\n",
    "        else:\n",
    "            dup.append(x)\n",
    "            seen_count[cordstr]=seen_count[cordstr]+1\n",
    "    for x in seen_count:\n",
    "        dict1['features'][seen_ind[x]]['properties']['NUMBER_OF_SITES'] = seen_count[x]\n",
    "        if seen_count[x]>1:\n",
    "            dict1['features'][seen_ind[x]]['properties']['NUM_SITES_STRING'] = str(seen_count[x])\n",
    "        else:\n",
    "            dict1['features'][seen_ind[x]]['properties']['NUM_SITES_STRING'] = \"\"\n",
    "    dict2 = copy.deepcopy(dict1)\n",
    "    for idx in sorted(dup, reverse=True):\n",
    "        del dict2['features'][idx]\n",
    "    print('...removed ' + str(len(dup)) + ' duplicates!')\n",
    "    #print(sorted(seen_count.values()))\n",
    "    return dict2, list(seen_count.values())"
   ]
  },
  {
   "cell_type": "code",
   "execution_count": 25,
   "metadata": {},
   "outputs": [
    {
     "name": "stdout",
     "output_type": "stream",
     "text": [
      "removing duplicates in 1968 element list...\n",
      "...removed 1336 duplicates!\n",
      "removing duplicates in 86 element list...\n",
      "...removed 0 duplicates!\n",
      "removing duplicates in 119 element list...\n",
      "...removed 83 duplicates!\n",
      "removing duplicates in 45 element list...\n",
      "...removed 0 duplicates!\n"
     ]
    }
   ],
   "source": [
    "# remove duplicate sites and make a dict\n",
    "tri, tri_sc = remove_duplicates(tri_raw)\n",
    "cbs, cbs_sc = remove_duplicates(cbs_raw)\n",
    "mos, mos_sc = remove_duplicates(mos_raw)\n",
    "sup, sup_sc = remove_duplicates(sup_raw)\n",
    "mydict = {'TRI': tri, 'CBS': cbs, 'MOSF': mos, 'SUPERFUND2': sup}"
   ]
  },
  {
   "cell_type": "code",
   "execution_count": 42,
   "metadata": {},
   "outputs": [
    {
     "data": {
      "text/plain": [
       "<matplotlib.axes._subplots.AxesSubplot at 0x1ead798b6d8>"
      ]
     },
     "execution_count": 42,
     "metadata": {},
     "output_type": "execute_result"
    },
    {
     "data": {
      "image/png": "[encoded data removed]",
      "text/plain": [
       "<matplotlib.figure.Figure at 0x1ead7954470>"
      ]
     },
     "metadata": {},
     "output_type": "display_data"
    }
   ],
   "source": [
    "import matplotlib.pyplot as plt \n",
    "import seaborn as sns\n",
    "all_counts = tri_sc+cbs_sc+mos_sc+sup_sc\n",
    "# check frequency of stacked sites and maximum number of stacked sites\n",
    "all_counts = [i for i in all_counts if i>1]\n",
    "sns.distplot(all_counts,kde=False)"
   ]
  },
  {
   "cell_type": "code",
   "execution_count": 11,
   "metadata": {},
   "outputs": [
    {
     "name": "stdout",
     "output_type": "stream",
     "text": [
      "TRI\n",
      "632\n",
      "CBS\n",
      "86\n",
      "MOSF\n",
      "36\n",
      "SUPERFUND2\n",
      "45\n"
     ]
    }
   ],
   "source": [
    "# put a site name on each site and add Full Address to TRI sites \n",
    "for myvar in mydict:\n",
    "    print(myvar)\n",
    "    varlen = len(mydict[myvar]['features'])\n",
    "    print(varlen)\n",
    "    for i in range(varlen):\n",
    "        mydict[myvar]['features'][i]['properties']['SITE_NAME'] = myvar\n",
    "        if myvar=='TRI':\n",
    "           mydict[myvar]['features'][i]['properties']['Full Address'] = mydict[myvar]['features'][i]['properties']['STREET_ADDRESS']"
   ]
  },
  {
   "cell_type": "code",
   "execution_count": 14,
   "metadata": {},
   "outputs": [
    {
     "name": "stdout",
     "output_type": "stream",
     "text": [
      "saved as \"Data\\bulkstorage_converted.json\" !\n"
     ]
    }
   ],
   "source": [
    "# merge and save \n",
    "merged = tri\n",
    "merged['features'] = merged['features']+cbs['features']+mos['features']+sup['features']\n",
    "len(merged['features'])\n",
    "\n",
    "# now write a geojson\n",
    "output_filename = 'Data\\\\bulkstorage_converted.json'\n",
    "with open(output_filename, 'w') as output_file:\n",
    "    json.dump(merged, output_file, indent=2) \n",
    "print('saved as \"'+ output_filename + '\" !')"
   ]
  },
  {
   "cell_type": "code",
   "execution_count": null,
   "metadata": {},
   "outputs": [],
   "source": []
  }
 ],
 "metadata": {
  "kernelspec": {
   "display_name": "Python 3",
   "language": "python",
   "name": "python3"
  },
  "language_info": {
   "codemirror_mode": {
    "name": "ipython",
    "version": 3
   },
   "file_extension": ".py",
   "mimetype": "text/x-python",
   "name": "python",
   "nbconvert_exporter": "python",
   "pygments_lexer": "ipython3",
   "version": "3.6.4"
  }
 },
 "nbformat": 4,
 "nbformat_minor": 2
}
