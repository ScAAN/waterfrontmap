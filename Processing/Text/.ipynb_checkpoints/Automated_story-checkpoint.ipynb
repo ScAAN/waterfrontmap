{
 "cells": [
  {
   "cell_type": "code",
   "execution_count": 88,
   "metadata": {
    "collapsed": false
   },
   "outputs": [
    {
     "name": "stdout",
     "output_type": "stream",
     "text": [
      "C:\\Users\\Maija\\Documents\\Python\\waterfrontmap\n"
     ]
    }
   ],
   "source": [
    "# import stuff\n",
    "import os\n",
    "os.chdir(\"C:\\\\Users\\\\Maija\\\\Documents\\\\Python\\\\waterfrontmap\")\n",
    "cwd = os.getcwd()\n",
    "print(cwd)\n",
    "import pandas as pd \n",
    "import numpy as np\n",
    "import json\n",
    "from pandas.api.types import is_string_dtype\n",
    "from pandas.api.types import is_numeric_dtype"
   ]
  },
  {
   "cell_type": "code",
   "execution_count": null,
   "metadata": {
    "collapsed": true
   },
   "outputs": [],
   "source": [
    "# HOW TO USE \n",
    "# step 1: make a json which is a list of N objects with four properties \n",
    "#\n",
    "#         A) pageSMIA\n",
    "#         B) pageLayer\n",
    "#         C) pageTitle\n",
    "#         D) pageText\n",
    "#\n",
    "#     * All pages from the same SMIA must occur consecutively (you cannot)\n",
    "#       go from Smia 2-> 4 and then back to 2\n",
    "#       (this is to support directly clicking on SMIAs)\n",
    "#     \n",
    "#     * Example: https://raw.githubusercontent.com/ScAAN/waterfrontmap/master/Scripts/story_text_raw.json\n",
    "#       (the page idx is unnecessary and just for readability)\n",
    "#      \n",
    "#     * You can either write this json yourself or use a xlsx converter \n",
    "#       ie: excel-as-json \n",
    "#    \n",
    "#\n",
    "# step 2: tell this script what the name of that json is in the cell below\n",
    "#     (i.e. \"Scripts\\\\Story_text_raw.json\")\n",
    "#\n",
    "# step 3: run script and be finished! \n",
    "#\n",
    "# I haven't implemented error checking yet so this is super sensitive to \n",
    "# mistakes, I also didn't test out many excel-> json converters so I'm \n",
    "# not responsible if strange things happen. Please check for typos in \n",
    "# your json first if you see unexpected map behavior. \n",
    "#\n",
    "# \n",
    "# TO DO: automate all variables and add error checking \n",
    "#        clean variable names "
   ]
  },
  {
   "cell_type": "code",
   "execution_count": 80,
   "metadata": {
    "collapsed": false
   },
   "outputs": [
    {
     "name": "stdout",
     "output_type": "stream",
     "text": [
      "file exists?\n",
      "True\n"
     ]
    }
   ],
   "source": [
    "file_name = 'Scripts\\\\story_text_raw.json'\n",
    "print(\"file exists?\")\n",
    "print(os.path.isfile(file_name))\n",
    "data = json.load(open(file_name))"
   ]
  },
  {
   "cell_type": "code",
   "execution_count": 82,
   "metadata": {
    "collapsed": false
   },
   "outputs": [
    {
     "name": "stdout",
     "output_type": "stream",
     "text": [
      "11\n"
     ]
    }
   ],
   "source": [
    "njson = len(data)\n",
    "print(njson)\n",
    "\n",
    "# manual \n",
    "zoomMat = [10,12,12,12,12,12,12,12];\n",
    "latMat = [-73.9978,-73.97256593122793,-73.93480042828487,-74.23091192935536,\n",
    "-74.00743616089453,-73.8939875925258,-74.01499944630518,-74.13713363755667]; \n",
    "lngMat = [40.7209,40.70337539892057, 40.73043814252142, 40.5505517824447\n",
    ", 40.68650785503232, 40.80730643781723, 40.658442081047724, 40.64057887695694]; \n",
    "\n",
    "# add zoom, lng and lat fields based on SMIA number\n",
    "# also count the first occurence of each SMIA \n",
    "SMIA_first_page = [0,0,0,0,0,0,0,0]\n",
    "for page in range(njson):\n",
    "    SMIA = data[page][\"pageSMIA\"]\n",
    "    data[page][\"pageZoom\"] = zoomMat[SMIA]\n",
    "    data[page][\"pageLng\"]  = lngMat[SMIA]\n",
    "    data[page][\"pageLat\"]  = latMat[SMIA]\n",
    "    if page>0:\n",
    "        if SMIA!=(data[page-1][\"pageSMIA\"]):\n",
    "            SMIA_first_page[SMIA] = page\n",
    "        "
   ]
  },
  {
   "cell_type": "code",
   "execution_count": 86,
   "metadata": {
    "collapsed": false
   },
   "outputs": [],
   "source": [
    "# format data\n",
    "fulldata = dict()\n",
    "fulldata[\"data\"] = data\n",
    "fulldata[\"global_max_page\"] = njson\n",
    "fulldata[\"SMIA_first_page\"] = SMIA_first_page\n"
   ]
  },
  {
   "cell_type": "code",
   "execution_count": 85,
   "metadata": {
    "collapsed": false
   },
   "outputs": [],
   "source": [
    "# save data (pretty)\n",
    "output_file = 'Scripts\\\\story_text.json'\n",
    "with open(output_file, 'w') as f:\n",
    "    json.dump(fulldata, f, sort_keys=True,indent=4)\n",
    "    "
   ]
  }
 ],
 "metadata": {
  "kernelspec": {
   "display_name": "Python 3",
   "language": "python",
   "name": "python3"
  },
  "language_info": {
   "codemirror_mode": {
    "name": "ipython",
    "version": 3
   },
   "file_extension": ".py",
   "mimetype": "text/x-python",
   "name": "python",
   "nbconvert_exporter": "python",
   "pygments_lexer": "ipython3",
   "version": "3.6.0"
  }
 },
 "nbformat": 4,
 "nbformat_minor": 2
}
