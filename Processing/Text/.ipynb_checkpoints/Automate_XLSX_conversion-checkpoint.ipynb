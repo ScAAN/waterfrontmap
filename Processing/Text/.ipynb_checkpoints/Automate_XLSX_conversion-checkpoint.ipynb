{
 "cells": [
  {
   "cell_type": "code",
   "execution_count": 2,
   "metadata": {
    "collapsed": false
   },
   "outputs": [
    {
     "name": "stdout",
     "output_type": "stream",
     "text": [
      "C:\\Users\\Maija\\Documents\\Python\\waterfrontmap\n"
     ]
    }
   ],
   "source": [
    "# import stuff\n",
    "import os\n",
    "os.chdir(\"C:\\\\Users\\\\Maija\\\\Documents\\\\Python\\\\waterfrontmap\")\n",
    "cwd = os.getcwd()\n",
    "print(cwd)\n",
    "import pandas as pd \n",
    "import numpy as np\n",
    "import json\n",
    "from pandas.api.types import is_string_dtype\n",
    "from pandas.api.types import is_numeric_dtype"
   ]
  },
  {
   "cell_type": "code",
   "execution_count": null,
   "metadata": {
    "collapsed": true
   },
   "outputs": [],
   "source": [
    "# HOW TO USE \n",
    "# ???\n",
    "# "
   ]
  },
  {
   "cell_type": "code",
   "execution_count": 6,
   "metadata": {
    "collapsed": false
   },
   "outputs": [
    {
     "name": "stdout",
     "output_type": "stream",
     "text": [
      "file exists?\n",
      "True\n"
     ]
    },
    {
     "data": {
      "text/html": [
       "<div>\n",
       "<table border=\"1\" class=\"dataframe\">\n",
       "  <thead>\n",
       "    <tr style=\"text-align: right;\">\n",
       "      <th></th>\n",
       "      <th>pageIdx</th>\n",
       "      <th>pageSMIA</th>\n",
       "      <th>pageLayer</th>\n",
       "      <th>pageTitle</th>\n",
       "      <th>pageText</th>\n",
       "    </tr>\n",
       "  </thead>\n",
       "  <tbody>\n",
       "    <tr>\n",
       "      <th>0</th>\n",
       "      <td>0</td>\n",
       "      <td>0</td>\n",
       "      <td>Percent People of Color</td>\n",
       "      <td>Introduction Title</td>\n",
       "      <td>Lorem ipsum dolor sit amet, consectetur adipis...</td>\n",
       "    </tr>\n",
       "    <tr>\n",
       "      <th>1</th>\n",
       "      <td>1</td>\n",
       "      <td>1</td>\n",
       "      <td>Percent Uninsured</td>\n",
       "      <td>Smia #1 Title</td>\n",
       "      <td>Duis aute irure dolor in reprehenderit in volu...</td>\n",
       "    </tr>\n",
       "    <tr>\n",
       "      <th>2</th>\n",
       "      <td>2</td>\n",
       "      <td>2</td>\n",
       "      <td>Percent People of Color</td>\n",
       "      <td>Smia #2 POC</td>\n",
       "      <td>Sed ut perspiciatis unde omnis iste natus erro...</td>\n",
       "    </tr>\n",
       "    <tr>\n",
       "      <th>3</th>\n",
       "      <td>2</td>\n",
       "      <td>2</td>\n",
       "      <td>Zoning</td>\n",
       "      <td>Smia #2 Zoning</td>\n",
       "      <td>Ut enim ad minima veniam, quis nostrum exercit...</td>\n",
       "    </tr>\n",
       "    <tr>\n",
       "      <th>4</th>\n",
       "      <td>3</td>\n",
       "      <td>3</td>\n",
       "      <td>Median Household Income</td>\n",
       "      <td>Smia #3 Income</td>\n",
       "      <td>Et harum quidem rerum facilis est et expedita ...</td>\n",
       "    </tr>\n",
       "    <tr>\n",
       "      <th>5</th>\n",
       "      <td>3</td>\n",
       "      <td>3</td>\n",
       "      <td>Percent Uninsured</td>\n",
       "      <td>Smia #3 Percent Uninsured</td>\n",
       "      <td>Temporibus autem quibusdam et aut officiis deb...</td>\n",
       "    </tr>\n",
       "    <tr>\n",
       "      <th>6</th>\n",
       "      <td>3</td>\n",
       "      <td>3</td>\n",
       "      <td>Bulk Storage Sites</td>\n",
       "      <td>Smia #3 Bulk Storage</td>\n",
       "      <td>Nemo enim ipsam voluptatem quia voluptas sit a...</td>\n",
       "    </tr>\n",
       "    <tr>\n",
       "      <th>7</th>\n",
       "      <td>4</td>\n",
       "      <td>4</td>\n",
       "      <td>Percent of Families Below Poverty Line</td>\n",
       "      <td>Smia #4 Title</td>\n",
       "      <td>Ut enim ad minima veniam, quis nostrum exercit...</td>\n",
       "    </tr>\n",
       "    <tr>\n",
       "      <th>8</th>\n",
       "      <td>5</td>\n",
       "      <td>5</td>\n",
       "      <td>Bulk Storage Sites</td>\n",
       "      <td>Smia #5 Title</td>\n",
       "      <td>At vero eos et accusamus et iusto odio digniss...</td>\n",
       "    </tr>\n",
       "    <tr>\n",
       "      <th>9</th>\n",
       "      <td>6</td>\n",
       "      <td>6</td>\n",
       "      <td>Hurricane Storm Surge Zones</td>\n",
       "      <td>Smia #6 Title</td>\n",
       "      <td>Et harum quidem rerum facilis est et expedita ...</td>\n",
       "    </tr>\n",
       "    <tr>\n",
       "      <th>10</th>\n",
       "      <td>7</td>\n",
       "      <td>7</td>\n",
       "      <td>Hurricane Evacuation Zones</td>\n",
       "      <td>Smia #7 Title</td>\n",
       "      <td>Temporibus autem quibusdam et aut officiis deb...</td>\n",
       "    </tr>\n",
       "  </tbody>\n",
       "</table>\n",
       "</div>"
      ],
      "text/plain": [
       "    pageIdx  pageSMIA                               pageLayer  \\\n",
       "0         0         0                 Percent People of Color   \n",
       "1         1         1                       Percent Uninsured   \n",
       "2         2         2                 Percent People of Color   \n",
       "3         2         2                                  Zoning   \n",
       "4         3         3                 Median Household Income   \n",
       "5         3         3                       Percent Uninsured   \n",
       "6         3         3                      Bulk Storage Sites   \n",
       "7         4         4  Percent of Families Below Poverty Line   \n",
       "8         5         5                      Bulk Storage Sites   \n",
       "9         6         6             Hurricane Storm Surge Zones   \n",
       "10        7         7              Hurricane Evacuation Zones   \n",
       "\n",
       "                    pageTitle  \\\n",
       "0          Introduction Title   \n",
       "1               Smia #1 Title   \n",
       "2                 Smia #2 POC   \n",
       "3              Smia #2 Zoning   \n",
       "4              Smia #3 Income   \n",
       "5   Smia #3 Percent Uninsured   \n",
       "6        Smia #3 Bulk Storage   \n",
       "7               Smia #4 Title   \n",
       "8               Smia #5 Title   \n",
       "9               Smia #6 Title   \n",
       "10              Smia #7 Title   \n",
       "\n",
       "                                             pageText  \n",
       "0   Lorem ipsum dolor sit amet, consectetur adipis...  \n",
       "1   Duis aute irure dolor in reprehenderit in volu...  \n",
       "2   Sed ut perspiciatis unde omnis iste natus erro...  \n",
       "3   Ut enim ad minima veniam, quis nostrum exercit...  \n",
       "4   Et harum quidem rerum facilis est et expedita ...  \n",
       "5   Temporibus autem quibusdam et aut officiis deb...  \n",
       "6   Nemo enim ipsam voluptatem quia voluptas sit a...  \n",
       "7   Ut enim ad minima veniam, quis nostrum exercit...  \n",
       "8   At vero eos et accusamus et iusto odio digniss...  \n",
       "9   Et harum quidem rerum facilis est et expedita ...  \n",
       "10  Temporibus autem quibusdam et aut officiis deb...  "
      ]
     },
     "execution_count": 6,
     "metadata": {},
     "output_type": "execute_result"
    }
   ],
   "source": [
    "# STORY \n",
    "file_name = 'Processing\\\\Text\\\\story_text.csv'\n",
    "print(\"file exists?\")\n",
    "print(os.path.isfile(file_name))\n",
    "data = pd.read_csv(open(file_name),encoding='utf-8')\n",
    "data"
   ]
  },
  {
   "cell_type": "code",
   "execution_count": null,
   "metadata": {
    "collapsed": true
   },
   "outputs": [],
   "source": [
    "# make DF become json \n",
    "def become_json(df):\n",
    "    json = list()\n",
    "    cols = list(data)\n",
    "    for _, row in df.iterrows():\n",
    "        for name in cols:\n",
    "            json[row][name] = df[row][name]\n",
    "        \n",
    "        \n",
    "        feature = {'type':'Feature',\n",
    "                   'properties':{},\n",
    "                   'geometry':{'type':'Point',\n",
    "                               'coordinates':[]}}\n",
    "        feature['geometry']['coordinates'] = [row[lon],row[lat]]\n",
    "        for prop in properties:\n",
    "            feature['properties'][prop] = row[prop]\n",
    "        geojson['features'].append(feature)\n",
    "    return geojson"
   ]
  },
  {
   "cell_type": "code",
   "execution_count": 19,
   "metadata": {
    "collapsed": false
   },
   "outputs": [],
   "source": [
    "cols = list(data)"
   ]
  },
  {
   "cell_type": "code",
   "execution_count": 82,
   "metadata": {
    "collapsed": false
   },
   "outputs": [
    {
     "name": "stdout",
     "output_type": "stream",
     "text": [
      "11\n"
     ]
    }
   ],
   "source": [
    "njson = len(data)\n",
    "print(njson)\n",
    "\n",
    "# manual \n",
    "zoomMat = [10,12,12,12,12,12,12,12];\n",
    "latMat = [-73.9978,-73.97256593122793,-73.93480042828487,-74.23091192935536,\n",
    "-74.00743616089453,-73.8939875925258,-74.01499944630518,-74.13713363755667]; \n",
    "lngMat = [40.7209,40.70337539892057, 40.73043814252142, 40.5505517824447\n",
    ", 40.68650785503232, 40.80730643781723, 40.658442081047724, 40.64057887695694]; \n",
    "\n",
    "# add zoom, lng and lat fields based on SMIA number\n",
    "# also count the first occurence of each SMIA \n",
    "SMIA_first_page = [0,0,0,0,0,0,0,0]\n",
    "for page in range(njson):\n",
    "    SMIA = data[page][\"pageSMIA\"]\n",
    "    data[page][\"pageZoom\"] = zoomMat[SMIA]\n",
    "    data[page][\"pageLng\"]  = lngMat[SMIA]\n",
    "    data[page][\"pageLat\"]  = latMat[SMIA]\n",
    "    if page>0:\n",
    "        if SMIA!=(data[page-1][\"pageSMIA\"]):\n",
    "            SMIA_first_page[SMIA] = page\n",
    "        "
   ]
  },
  {
   "cell_type": "code",
   "execution_count": 86,
   "metadata": {
    "collapsed": false
   },
   "outputs": [],
   "source": [
    "# format data\n",
    "fulldata = dict()\n",
    "fulldata[\"data\"] = data\n",
    "fulldata[\"global_max_page\"] = njson\n",
    "fulldata[\"SMIA_first_page\"] = SMIA_first_page\n"
   ]
  },
  {
   "cell_type": "code",
   "execution_count": 85,
   "metadata": {
    "collapsed": false
   },
   "outputs": [],
   "source": [
    "# save data (pretty)\n",
    "output_file = 'Scripts\\\\story_text.json'\n",
    "with open(output_file, 'w') as f:\n",
    "    json.dump(fulldata, f, sort_keys=True,indent=4)\n",
    "    "
   ]
  }
 ],
 "metadata": {
  "kernelspec": {
   "display_name": "Python 3",
   "language": "python",
   "name": "python3"
  },
  "language_info": {
   "codemirror_mode": {
    "name": "ipython",
    "version": 3
   },
   "file_extension": ".py",
   "mimetype": "text/x-python",
   "name": "python",
   "nbconvert_exporter": "python",
   "pygments_lexer": "ipython3",
   "version": "3.6.0"
  }
 },
 "nbformat": 4,
 "nbformat_minor": 2
}
