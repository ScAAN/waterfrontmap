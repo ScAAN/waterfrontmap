{
 "cells": [
  {
   "cell_type": "code",
   "execution_count": 5,
   "metadata": {
    "collapsed": false
   },
   "outputs": [
    {
     "name": "stdout",
     "output_type": "stream",
     "text": [
      "C:\\Users\\Maija\\Documents\\Python\\waterfrontmap\n"
     ]
    }
   ],
   "source": [
    "# import stuff\n",
    "import os\n",
    "os.chdir(\"C:\\\\Users\\\\Maija\\\\Documents\\\\Python\\\\waterfrontmap\")\n",
    "cwd = os.getcwd()\n",
    "print(cwd)\n",
    "import pandas as pd \n",
    "import numpy as np\n",
    "import json\n",
    "from pandas.api.types import is_string_dtype\n",
    "from pandas.api.types import is_numeric_dtype"
   ]
  },
  {
   "cell_type": "code",
   "execution_count": null,
   "metadata": {
    "collapsed": true
   },
   "outputs": [],
   "source": [
    "# specify four properties, one per line, with a \"--\" between pages\n",
    "#\n",
    "# 0) --\n",
    "# 1) SMIA 1-7 (or 0 for zoomed out)\n",
    "# 2) Relevant layer (or 0 for no layer)\n",
    "# 3) Title \n",
    "# 4) Text \n",
    "#\n",
    "# No weird characters, or at least make sure they're specified in utf-8 \n",
    "#\n",
    "# Pages will go in the order you specify them, you can also write the \n",
    "# page number between commented sections for readbility \n",
    "#\n",
    "# FOLLOW THESE INSTRUCTIONS. Things will break if not formatted correctly.\n",
    "#\n",
    "# example: \n",
    "#\n",
    "# --page 1--\n",
    "# 1\n",
    "# \"Percent People of Color\"\n",
    "# \"People of color in SMIA #1, Newtown Creek\"\n",
    "# \"Lorem ipsum lorem ipsum\"\n",
    "#  --page 2--\n",
    "# 1\n",
    "# \"Median Household Income\" \n",
    "# ... etcetera. \n",
    "\n",
    "\n",
    "\n"
   ]
  },
  {
   "cell_type": "code",
   "execution_count": 12,
   "metadata": {
    "collapsed": false
   },
   "outputs": [
    {
     "name": "stdout",
     "output_type": "stream",
     "text": [
      "True\n"
     ]
    }
   ],
   "source": [
    "file_name = 'Data\\\\story_data.json'\n",
    "#json = pd.read_json(file_name)\n",
    "print(os.path.isfile(file_name))\n",
    "data = json.load(open(file_name))"
   ]
  },
  {
   "cell_type": "code",
   "execution_count": null,
   "metadata": {
    "collapsed": true
   },
   "outputs": [],
   "source": [
    "for page in range(njson):\n",
    "    \n",
    "\n",
    "\n",
    "\n",
    "\n",
    "\n",
    "\n",
    "for ind, rowCD in enumerate(df[\"CD\"].values):\n",
    "    if ind>0:\n",
    "        percent = float(df[\"Percent (Age\"][ind])\n",
    "        unreliable_flag = float(df[\"unreliable_flag\"][ind])\n",
    "        for district in range(njson):\n",
    "            jsonCD = data['features'][district]['properties'][\"BoroCD\"]\n",
    "            if (jsonCD==rowCD):\n",
    "                data['features'][district]['properties'][\"perc_uninsured\"] = percent\n",
    "                data['features'][district]['properties'][\"unreliable\"] = unreliable_flag\n",
    "            "
   ]
  },
  {
   "cell_type": "code",
   "execution_count": 13,
   "metadata": {
    "collapsed": false
   },
   "outputs": [
    {
     "data": {
      "text/plain": [
       "{'1': {'pageLayer': 'Percent People of Color',\n",
       "  'pageNumber': '1',\n",
       "  'pageSMIA': '1',\n",
       "  'pageText': 'This is SMIA one, Lorem ipsum dolor sit amet, consectetur adipiscing elit, sed do eiusmod tempor incididunt ut labore et dolore magna aliqua.',\n",
       "  'pageTitle': 'SMIA #1'},\n",
       " '2': {'pageLayer': 'Percent People of Color',\n",
       "  'pageNumber': '2',\n",
       "  'pageSMIA': '2',\n",
       "  'pageText': 'This is SMIA two, Lorem ipsum dolor sit amet, consectetur adipiscing elit, sed do eiusmod tempor incididunt ut labore et dolore magna aliqua.',\n",
       "  'pageTitle': 'SMIA #2'},\n",
       " '3': {'pageLayer': 'Percent People of Color',\n",
       "  'pageNumber': '3',\n",
       "  'pageSMIA': '3',\n",
       "  'pageText': 'This is SMIA three, Lorem ipsum dolor sit amet, consectetur adipiscing elit, sed do eiusmod tempor incididunt ut labore et dolore magna aliqua.',\n",
       "  'pageTitle': 'SMIA #3'},\n",
       " '4': {'pageLayer': 'Percent People of Color',\n",
       "  'pageNumber': '4',\n",
       "  'pageSMIA': '4',\n",
       "  'pageText': 'This is SMIA four, Lorem ipsum dolor sit amet, consectetur adipiscing elit, sed do eiusmod tempor incididunt ut labore et dolore magna aliqua.',\n",
       "  'pageTitle': 'SMIA #4'},\n",
       " '5': {'pageLayer': 'Percent People of Color',\n",
       "  'pageNumber': '5',\n",
       "  'pageSMIA': '5',\n",
       "  'pageText': 'This is SMIA five, Lorem ipsum dolor sit amet, consectetur adipiscing elit, sed do eiusmod tempor incididunt ut labore et dolore magna aliqua.',\n",
       "  'pageTitle': 'SMIA #5'},\n",
       " '6': {'pageLayer': 'Percent People of Color',\n",
       "  'pageNumber': '6',\n",
       "  'pageSMIA': '6',\n",
       "  'pageText': 'This is SMIA six, Lorem ipsum dolor sit amet, consectetur adipiscing elit, sed do eiusmod tempor incididunt ut labore et dolore magna aliqua.',\n",
       "  'pageTitle': 'SMIA #6'}}"
      ]
     },
     "execution_count": 13,
     "metadata": {},
     "output_type": "execute_result"
    }
   ],
   "source": [
    "data"
   ]
  },
  {
   "cell_type": "code",
   "execution_count": null,
   "metadata": {
    "collapsed": true
   },
   "outputs": [],
   "source": []
  }
 ],
 "metadata": {
  "kernelspec": {
   "display_name": "Python 3",
   "language": "python",
   "name": "python3"
  },
  "language_info": {
   "codemirror_mode": {
    "name": "ipython",
    "version": 3
   },
   "file_extension": ".py",
   "mimetype": "text/x-python",
   "name": "python",
   "nbconvert_exporter": "python",
   "pygments_lexer": "ipython3",
   "version": "3.6.0"
  }
 },
 "nbformat": 4,
 "nbformat_minor": 2
}
